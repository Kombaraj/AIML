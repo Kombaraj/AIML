{
 "cells": [
  {
   "cell_type": "markdown",
   "metadata": {},
   "source": [
    "### Chat History with Memory 🧠\n",
    "\n",
    "<img src=\"./Image/ChatHistory.png\" width=\"700\" height=\"400\" style=\"display: block; margin: auto;\">"
   ]
  },
  {
   "cell_type": "markdown",
   "metadata": {},
   "source": [
    "### Load ENV file"
   ]
  },
  {
   "cell_type": "code",
   "execution_count": null,
   "metadata": {},
   "outputs": [],
   "source": [
    "from dotenv import load_dotenv\n",
    "import os\n",
    "load = load_dotenv('./../.env')\n",
    "\n",
    "print(os.getenv(\"LANGSMITH_PROJECT\"))"
   ]
  },
  {
   "cell_type": "markdown",
   "metadata": {},
   "source": [
    "#### Create LLM object"
   ]
  },
  {
   "cell_type": "code",
   "execution_count": null,
   "metadata": {},
   "outputs": [],
   "source": [
    "from langchain_ollama import ChatOllama\n",
    "\n",
    "llm = ChatOllama(\n",
    "    base_url=\"http://localhost:11434\",\n",
    "    model = \"qwen2.5:latest\",\n",
    "    temperature=0.5,\n",
    "    max_tokens = 250\n",
    ")"
   ]
  },
  {
   "cell_type": "code",
   "execution_count": null,
   "metadata": {},
   "outputs": [],
   "source": [
    "#!pip install langchain_community"
   ]
  },
  {
   "cell_type": "markdown",
   "metadata": {},
   "source": [
    "### Message history with ChatMessageHistory"
   ]
  },
  {
   "cell_type": "code",
   "execution_count": null,
   "metadata": {},
   "outputs": [],
   "source": [
    "from langchain_core.prompts import ChatPromptTemplate\n",
    "from langchain_core.output_parsers import StrOutputParser\n",
    "from langchain_core.runnables import chain\n",
    "from langchain_core.chat_history import BaseChatMessageHistory\n",
    "from langchain_core.runnables.history import RunnableWithMessageHistory\n",
    "from langchain_community.chat_message_histories import ChatMessageHistory\n"
   ]
  },
  {
   "cell_type": "code",
   "execution_count": null,
   "metadata": {},
   "outputs": [],
   "source": [
    "template = ChatPromptTemplate.from_messages([\n",
    "     ('placeholder', \"{history}\"),\n",
    "    ('human', \"{prompt}\")\n",
    "])\n",
    "\n",
    "chain = template | llm | StrOutputParser()\n",
    "\n",
    "store = {}\n",
    "\n",
    "def get_session_history(session_id: str) -> BaseChatMessageHistory:\n",
    "    if session_id not in store:\n",
    "        store[session_id] = ChatMessageHistory()\n",
    "    return store[session_id]\n",
    "\n",
    "\n",
    "history = RunnableWithMessageHistory(\n",
    "    chain, \n",
    "    get_session_history,\n",
    "    input_messages_key=\"prompt\",\n",
    "    history_messages_key=\"history\")\n",
    "\n",
    "session_id = \"Karthik\"\n",
    "\n",
    "get_session_history(session_id).clear()\n",
    "\n",
    "response1 = history.invoke({\"prompt\": \"What is the distance between earth and sun?\"},\n",
    "                          config = {\"configurable\": {\"session_id\": session_id}})\n",
    "\n",
    "response2 = history.invoke({\"prompt\": \"How about from moon\"},\n",
    "                          config = {\"configurable\": {\"session_id\": session_id}})\n",
    "\n",
    "print(response1)\n",
    "print(\"\\n\\n\")\n",
    "print(response2)\n",
    "\n"
   ]
  },
  {
   "cell_type": "markdown",
   "metadata": {},
   "source": [
    "### ChatMessage History with SqlChatMessageHistory"
   ]
  },
  {
   "cell_type": "code",
   "execution_count": null,
   "metadata": {},
   "outputs": [],
   "source": [
    "from langchain_community.chat_message_histories import SQLChatMessageHistory\n",
    "\n",
    "\n",
    "def get_session_history(session_id):\n",
    "    return SQLChatMessageHistory(session_id=session_id, connection_string=\"sqlite:///chathistory.db\")\n",
    "\n",
    "template = ChatPromptTemplate.from_messages([\n",
    "    ('placeholder', \"{history}\"),\n",
    "    ('human', \"{prompt}\")\n",
    "])\n",
    "\n",
    "chain = template | llm | StrOutputParser()\n",
    "\n",
    "history = RunnableWithMessageHistory(\n",
    "    chain, \n",
    "    get_session_history,\n",
    "    input_messages_key=\"prompt\",\n",
    "    history_messages_key=\"history\")\n",
    "\n",
    "\n",
    "session_id = \"Karthik\"\n",
    "\n",
    "get_session_history(session_id).clear()\n",
    "\n",
    "response1 = history.invoke({\"prompt\": \"What is the distance between earth and sun?\"},\n",
    "                          config = {\"configurable\": {\"session_id\": session_id}})\n",
    "\n",
    "response2 = history.invoke({\"prompt\": \"How about from moon\"},\n",
    "                          config = {\"configurable\": {\"session_id\": session_id}})\n",
    "\n",
    "print(response1)\n",
    "print(\"\\n\\n\")\n",
    "print(response2)\n",
    "\n"
   ]
  }
 ],
 "metadata": {
  "kernelspec": {
   "display_name": "myenv312",
   "language": "python",
   "name": "python3"
  },
  "language_info": {
   "codemirror_mode": {
    "name": "ipython",
    "version": 3
   },
   "file_extension": ".py",
   "mimetype": "text/x-python",
   "name": "python",
   "nbconvert_exporter": "python",
   "pygments_lexer": "ipython3",
   "version": "3.12.7"
  }
 },
 "nbformat": 4,
 "nbformat_minor": 2
}
