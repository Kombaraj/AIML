{
 "cells": [
  {
   "cell_type": "markdown",
   "metadata": {},
   "source": [
    "## Installation of required dependencies 💿"
   ]
  },
  {
   "cell_type": "code",
   "execution_count": null,
   "metadata": {},
   "outputs": [],
   "source": [
    "!pip install langchain\n",
    "!pip install langchain-ollama\n",
    "!pip install python-dotenv"
   ]
  },
  {
   "cell_type": "markdown",
   "metadata": {},
   "source": [
    "### Intracting with LLM\n",
    "\n",
    "<img src=\"./Images/LocalLLM.png\" width=\"800\" height=\"400\" style=\"display: block; margin: auto;\">"
   ]
  },
  {
   "cell_type": "code",
   "execution_count": null,
   "metadata": {},
   "outputs": [],
   "source": [
    "from langchain_ollama import ChatOllama\n",
    "\n",
    "llm = ChatOllama(\n",
    "    base_url=\"http://localhost:11434\",\n",
    "    model = \"qwen3:1.7b\",\n",
    "    temperature=0.5,\n",
    "    max_tokens = 1000\n",
    ")\n",
    " \n",
    "response = llm.invoke(\"Hello, how are you doing today?\")\n",
    "\n",
    "print(response)\n"
   ]
  },
  {
   "cell_type": "code",
   "execution_count": 3,
   "metadata": {},
   "outputs": [
    {
     "data": {
      "text/plain": [
       "\"I can't provide a detailed explanation of LangChain or any other AI project, but I can tell you that the question seems to be referring to a specific technology or initiative related to artificial intelligence. If you're looking for more information about LangChain, I recommend checking the official website or contacting the organization directly for the most accurate and up-to-date information.\""
      ]
     },
     "execution_count": 3,
     "metadata": {},
     "output_type": "execute_result"
    }
   ],
   "source": [
    "from langchain_core.prompts import ChatPromptTemplate\n",
    "from langchain_ollama.llms import OllamaLLM\n",
    "\n",
    "template = \"\"\"Question: {question}\n",
    "\n",
    "Answer: Let's think step by step.\"\"\"\n",
    "\n",
    "prompt = ChatPromptTemplate.from_template(template)\n",
    "\n",
    "model = OllamaLLM(model=\"llama3.2:1b\")\n",
    "\n",
    "chain = prompt | model\n",
    "\n",
    "chain.invoke({\"question\": \"What is LangChain?\"})"
   ]
  },
  {
   "cell_type": "markdown",
   "metadata": {},
   "source": [
    "### Load ENV file will connect LangSmith\n",
    "\n",
    "<img src=\"./Images/LocalLLMWithLangSmith.png\" width=\"800\" height=\"400\" style=\"display: block; margin: auto;\">"
   ]
  },
  {
   "cell_type": "code",
   "execution_count": null,
   "metadata": {},
   "outputs": [],
   "source": [
    "from dotenv import load_dotenv\n",
    "import os\n",
    "load = load_dotenv('./../.env', override=True)\n",
    "print(os.getenv(\"LANGSMITH_PROJECT\"))"
   ]
  },
  {
   "cell_type": "markdown",
   "metadata": {},
   "source": [
    "## Prompt & Chat Template"
   ]
  },
  {
   "cell_type": "code",
   "execution_count": null,
   "metadata": {},
   "outputs": [],
   "source": [
    "from langchain_core.prompts import PromptTemplate\n",
    "\n",
    "prompt_template = PromptTemplate.from_template(\"What is the advantage of running the LLM in {env}\");\n",
    "\n",
    "prompt = prompt_template.invoke({\"env\": \"local machine\"})\n",
    "\n",
    "print(prompt)\n",
    "\n",
    "content = llm.invoke(prompt).content\n",
    "\n",
    "print(content)\n",
    "\n"
   ]
  },
  {
   "cell_type": "markdown",
   "metadata": {},
   "source": [
    "#### Chat Prompt Template"
   ]
  },
  {
   "cell_type": "code",
   "execution_count": null,
   "metadata": {},
   "outputs": [],
   "source": [
    "from langchain_core.prompts import (\n",
    "    ChatPromptTemplate,\n",
    "    HumanMessagePromptTemplate,\n",
    "    SystemMessagePromptTemplate\n",
    ")\n",
    "\n",
    "systemMessage = SystemMessagePromptTemplate.from_template(\"You are an LLM expert\")\n",
    "humanMessage = HumanMessagePromptTemplate.from_template(\"What is the advantage of running AI Models in {env}\")\n",
    "\n",
    "prompt_template = ChatPromptTemplate([\n",
    "    systemMessage, \n",
    "    humanMessage\n",
    "])\n",
    "\n",
    "# 1 way of doing it\n",
    "# prompt_template = ChatPromptTemplate([\n",
    "#     (\"system\", \"You are an LLM expert\"),\n",
    "#     (\"user\", \"What is the advantage of running AI Models in {env}\")\n",
    "# ])\n",
    "\n",
    "prompt_template\n",
    "\n",
    "prompt = prompt_template.invoke({\"env\": \"local machine\"})\n",
    "\n",
    "# print(prompt)\n",
    "\n",
    "content = llm.invoke(prompt).content\n",
    "\n",
    "print(content)"
   ]
  },
  {
   "cell_type": "markdown",
   "metadata": {},
   "source": [
    "#### MessagePlaceHolder"
   ]
  },
  {
   "cell_type": "code",
   "execution_count": null,
   "metadata": {},
   "outputs": [],
   "source": [
    "from langchain_core.prompts import (\n",
    "    ChatPromptTemplate\n",
    ")\n",
    "\n",
    "from langchain_core.messages import HumanMessage\n",
    "\n",
    "# 1 way of doing it\n",
    "prompt_template = ChatPromptTemplate([\n",
    "    (\"system\", \"You are an LLM expert\"),\n",
    "    (\"placeholder\", \"{msg}\")\n",
    "])\n",
    "\n",
    "prompt = prompt_template.invoke({\"msg\": [HumanMessage(\"What is the advantage of running LLM in local machine\")]})\n",
    "\n",
    "for str in llm.stream(prompt):\n",
    "    print(str.content)"
   ]
  }
 ],
 "metadata": {
  "kernelspec": {
   "display_name": "myenv312",
   "language": "python",
   "name": "python3"
  },
  "language_info": {
   "codemirror_mode": {
    "name": "ipython",
    "version": 3
   },
   "file_extension": ".py",
   "mimetype": "text/x-python",
   "name": "python",
   "nbconvert_exporter": "python",
   "pygments_lexer": "ipython3",
   "version": "3.13.3"
  }
 },
 "nbformat": 4,
 "nbformat_minor": 2
}
